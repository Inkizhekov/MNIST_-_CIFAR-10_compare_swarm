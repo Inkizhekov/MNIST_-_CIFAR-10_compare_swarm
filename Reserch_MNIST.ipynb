{
 "cells": [
  {
   "cell_type": "markdown",
   "metadata": {},
   "source": [
    "# Сравнение PSO и Grid Search для настройки гиперпараметров на MNIST"
   ]
  },
  {
   "cell_type": "code",
   "execution_count": 1,
   "metadata": {},
   "outputs": [],
   "source": [
    "import tensorflow as tf\n",
    "from tensorflow.keras.datasets import mnist\n",
    "from tensorflow.keras.utils import to_categorical\n",
    "from tensorflow.keras.models import Sequential\n",
    "from tensorflow.keras.layers import Dense, Flatten\n",
    "from tensorflow.keras.optimizers import Adam\n",
    "from sklearn.model_selection import ParameterGrid\n",
    "from pyswarm import pso\n",
    "import numpy as np\n",
    "import matplotlib.pyplot as plt\n",
    "import time"
   ]
  },
  {
   "cell_type": "markdown",
   "metadata": {},
   "source": [
    "### Загрузка и подготовка данных"
   ]
  },
  {
   "cell_type": "code",
   "execution_count": 2,
   "metadata": {},
   "outputs": [],
   "source": [
    "# Загрузка данных MNIST\n",
    "(x_train, y_train), (x_test, y_test) = mnist.load_data()\n",
    "\n",
    "# Нормализация данных\n",
    "x_train = x_train.reshape(-1, 28*28).astype('float32') / 255.0\n",
    "x_test = x_test.reshape(-1, 28*28).astype('float32') / 255.0\n",
    "\n",
    "# Преобразование меток в one-hot encoding\n",
    "y_train = to_categorical(y_train, 10)\n",
    "y_test = to_categorical(y_test, 10)"
   ]
  },
  {
   "cell_type": "markdown",
   "metadata": {},
   "source": [
    "### Определение вспомогательных функций"
   ]
  },
  {
   "cell_type": "code",
   "execution_count": 6,
   "metadata": {},
   "outputs": [],
   "source": [
    "# Функция для создания и обучения модели\n",
    "def create_model(num_neurons, learning_rate):\n",
    "    model = Sequential([\n",
    "        Flatten(input_shape=(28*28,)),\n",
    "        Dense(num_neurons, activation='relu'),\n",
    "        Dense(10, activation='softmax')\n",
    "    ])\n",
    "    model.compile(optimizer=Adam(learning_rate=learning_rate),\n",
    "                  loss='categorical_crossentropy',\n",
    "                  metrics=['accuracy'])\n",
    "    return model\n",
    "\n",
    "# Функция для оценки модели\n",
    "def evaluate_model(params):\n",
    "    num_neurons, learning_rate = params\n",
    "    model = create_model(int(num_neurons), learning_rate)\n",
    "    model.fit(x_train, y_train, epochs=5, batch_size=32, verbose=0)\n",
    "    loss, accuracy = model.evaluate(x_test, y_test, verbose=0)\n",
    "    return 1 - accuracy  # Минимизируем ошибку\n",
    "\n",
    "# Функция для Grid Search\n",
    "def grid_search(params_grid):\n",
    "    best_params = None\n",
    "    best_score = float('inf')\n",
    "    for params in ParameterGrid(params_grid):\n",
    "        score = evaluate_model([params['num_neurons'], params['learning_rate']])\n",
    "        if score < best_score:\n",
    "            best_score = score\n",
    "            best_params = params\n",
    "    return best_params, best_score\n",
    "\n",
    "# Функция для PSO\n",
    "def pso_objective(params):\n",
    "    num_neurons, learning_rate = params\n",
    "    return evaluate_model([num_neurons, learning_rate])\n"
   ]
  },
  {
   "cell_type": "markdown",
   "metadata": {},
   "source": [
    "### Запуск Grid Search"
   ]
  },
  {
   "cell_type": "code",
   "execution_count": 7,
   "metadata": {},
   "outputs": [
    {
     "name": "stdout",
     "output_type": "stream",
     "text": [
      "Grid Search took 134.488 seconds.\n"
     ]
    },
    {
     "data": {
      "text/plain": [
       "({'learning_rate': 0.001, 'num_neurons': 128}, 0.0252000093460083)"
      ]
     },
     "execution_count": 7,
     "metadata": {},
     "output_type": "execute_result"
    }
   ],
   "source": [
    "params_grid = {\n",
    "    'num_neurons': [32, 64, 128],\n",
    "    'learning_rate': [0.001, 0.01, 0.1]\n",
    "}\n",
    "\n",
    "start_time = time.time()\n",
    "best_params_grid, best_score_grid = grid_search(params_grid)\n",
    "grid_search_time = time.time() - start_time\n",
    "print(f\"Grid Search took {grid_search_time:.3f} seconds.\")\n",
    "best_params_grid, best_score_grid"
   ]
  },
  {
   "cell_type": "markdown",
   "metadata": {},
   "source": [
    "### Запуск PSO"
   ]
  },
  {
   "cell_type": "code",
   "execution_count": 8,
   "metadata": {},
   "outputs": [
    {
     "name": "stdout",
     "output_type": "stream",
     "text": [
      "Stopping search: maximum iterations reached --> 10\n",
      "PSO took 1800.751 seconds.\n"
     ]
    },
    {
     "data": {
      "text/plain": [
       "(array([1.02567795e+02, 1.00000000e-03]), 0.021000027656555176)"
      ]
     },
     "execution_count": 8,
     "metadata": {},
     "output_type": "execute_result"
    }
   ],
   "source": [
    "lb = [32, 0.001]  # Нижние границы\n",
    "ub = [128, 0.1]   # Верхние границы\n",
    "\n",
    "start_time = time.time()\n",
    "best_params_pso, best_score_pso = pso(pso_objective, lb, ub, swarmsize=10, maxiter=10)\n",
    "pso_time = time.time() - start_time\n",
    "print(f\"PSO took {pso_time:.3f} seconds.\")\n",
    "best_params_pso, best_score_pso"
   ]
  },
  {
   "cell_type": "markdown",
   "metadata": {},
   "source": [
    "### Визуализация и сравнительный анализ"
   ]
  },
  {
   "cell_type": "code",
   "execution_count": 9,
   "metadata": {},
   "outputs": [
    {
     "data": {
      "text/plain": [
       "[{'method': 'Grid Search',\n",
       "  'params': {'learning_rate': 0.001, 'num_neurons': 128},\n",
       "  'score': 0.0252000093460083,\n",
       "  'time': 134.488196849823},\n",
       " {'method': 'PSO',\n",
       "  'params': array([1.02567795e+02, 1.00000000e-03]),\n",
       "  'score': 0.021000027656555176,\n",
       "  'time': 1800.751333475113}]"
      ]
     },
     "execution_count": 9,
     "metadata": {},
     "output_type": "execute_result"
    }
   ],
   "source": [
    "# Сравнение результатов\n",
    "results = [\n",
    "    {'method': 'Grid Search', 'params': best_params_grid, 'score': best_score_grid, 'time': grid_search_time},\n",
    "    {'method': 'PSO', 'params': best_params_pso, 'score': best_score_pso, 'time': pso_time}\n",
    "]\n",
    "results"
   ]
  },
  {
   "cell_type": "markdown",
   "metadata": {},
   "source": [
    "### Визуализация результатов"
   ]
  },
  {
   "cell_type": "code",
   "execution_count": 10,
   "metadata": {},
   "outputs": [
    {
     "data": {
      "image/png": "[encoded data removed]",
      "text/plain": [
       "<Figure size 640x480 with 2 Axes>"
      ]
     },
     "metadata": {},
     "output_type": "display_data"
    }
   ],
   "source": [
    "# Построение графика сравнения времени и точности\n",
    "methods = [result['method'] for result in results]\n",
    "times = [result['time'] for result in results]\n",
    "scores = [1 - result['score'] for result in results]  # Переводим обратно к точности\n",
    "\n",
    "fig, ax1 = plt.subplots()\n",
    "\n",
    "ax2 = ax1.twinx()\n",
    "ax1.bar(methods, times, color='g')\n",
    "ax2.plot(methods, scores, color='b')\n",
    "\n",
    "ax1.set_xlabel('Метод')\n",
    "ax1.set_ylabel('Время (сек)', color='g')\n",
    "ax2.set_ylabel('Точность', color='b')\n",
    "\n",
    "plt.title('Сравнение Grid Search и PSO')\n",
    "plt.show()"
   ]
  }
 ],
 "metadata": {
  "kernelspec": {
   "display_name": "Python 3",
   "language": "python",
   "name": "python3"
  },
  "language_info": {
   "codemirror_mode": {
    "name": "ipython",
    "version": 3
   },
   "file_extension": ".py",
   "mimetype": "text/x-python",
   "name": "python",
   "nbconvert_exporter": "python",
   "pygments_lexer": "ipython3",
   "version": "3.10.7"
  }
 },
 "nbformat": 4,
 "nbformat_minor": 4
}
